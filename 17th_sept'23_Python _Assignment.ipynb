{
 "cells": [
  {
   "cell_type": "markdown",
   "id": "e0aea33c",
   "metadata": {},
   "source": [
    "# For Loop:"
   ]
  },
  {
   "cell_type": "markdown",
   "id": "e81e13b0",
   "metadata": {},
   "source": [
    "Write a Python program to print numbers from 1 to 10 using a for loop."
   ]
  },
  {
   "cell_type": "code",
   "execution_count": 1,
   "id": "5721458a",
   "metadata": {},
   "outputs": [
    {
     "name": "stdout",
     "output_type": "stream",
     "text": [
      "1\n",
      "2\n",
      "3\n",
      "4\n",
      "5\n",
      "6\n",
      "7\n",
      "8\n",
      "9\n",
      "10\n"
     ]
    }
   ],
   "source": [
    "for i in range(1, 11):\n",
    "    print(i)"
   ]
  },
  {
   "cell_type": "markdown",
   "id": "a8150082",
   "metadata": {},
   "source": [
    "Explain the difference between a for loop and a while loop in Python."
   ]
  },
  {
   "cell_type": "code",
   "execution_count": 2,
   "id": "59ac7be0",
   "metadata": {},
   "outputs": [],
   "source": [
    "# The for loop is used when you know the exact number of iterations you want to perform, while the while loop is used when you're uncertain about the number of iterations and want to continue until a condition is met.\n",
    "# The for loop iterates over a sequence or collection, while the while loop continues as long as a specified condition is True.\n",
    "# The for loop automatically manages initialization and iteration over items, while in a while loop, you need to manage initialization and updating manually within the loop block.\n",
    "    "
   ]
  },
  {
   "cell_type": "markdown",
   "id": "30a25eb6",
   "metadata": {},
   "source": [
    "Write a Python program to calculate the sum of all numbers from 1 to 100 using a for loop."
   ]
  },
  {
   "cell_type": "code",
   "execution_count": 3,
   "id": "51d34f9e",
   "metadata": {},
   "outputs": [
    {
     "name": "stdout",
     "output_type": "stream",
     "text": [
      "The sum of numbers from 1 to 100 is: 5050\n"
     ]
    }
   ],
   "source": [
    "sum_of_numbers = 0\n",
    "\n",
    "for i in range(1, 101):\n",
    "    sum_of_numbers += i\n",
    "\n",
    "print(f\"The sum of numbers from 1 to 100 is: {sum_of_numbers}\")"
   ]
  },
  {
   "cell_type": "markdown",
   "id": "c11003d2",
   "metadata": {},
   "source": [
    "How do you iterate through a list using a for loop in Python?"
   ]
  },
  {
   "cell_type": "code",
   "execution_count": 4,
   "id": "df6e17ad",
   "metadata": {},
   "outputs": [],
   "source": [
    "# Python For Loop With enumerate() To Iterate List. The enumerate() method can be used for any iterable objects such as list, range e.tc. Using enumerate() method we can access an index of iterable objects and return enumerate objects"
   ]
  },
  {
   "cell_type": "code",
   "execution_count": 5,
   "id": "ca05f37c",
   "metadata": {},
   "outputs": [
    {
     "name": "stdout",
     "output_type": "stream",
     "text": [
      "The product of all elements in the list is: 120\n"
     ]
    }
   ],
   "source": [
    "#5\n",
    "my_list = [1, 2, 3, 4, 5]\n",
    "product = 1\n",
    "\n",
    "for item in my_list:\n",
    "    product *= item\n",
    "\n",
    "print(f\"The product of all elements in the list is: {product}\")"
   ]
  },
  {
   "cell_type": "code",
   "execution_count": 6,
   "id": "c0e6930a",
   "metadata": {},
   "outputs": [
    {
     "name": "stdout",
     "output_type": "stream",
     "text": [
      "2\n",
      "4\n",
      "6\n",
      "8\n",
      "10\n",
      "12\n",
      "14\n",
      "16\n",
      "18\n",
      "20\n"
     ]
    }
   ],
   "source": [
    "#6\n",
    "for i in range(2, 21, 2):\n",
    "    print(i)\n"
   ]
  },
  {
   "cell_type": "code",
   "execution_count": 7,
   "id": "0367a703",
   "metadata": {},
   "outputs": [
    {
     "name": "stdout",
     "output_type": "stream",
     "text": [
      "The factorial of 5 is: 120\n"
     ]
    }
   ],
   "source": [
    "#7\n",
    "def factorial(n):\n",
    "    result = 1\n",
    "    for i in range(1, n+1):\n",
    "        result *= i\n",
    "    return result\n",
    "\n",
    "# Example usage\n",
    "number = 5\n",
    "factorial_result = factorial(number)\n",
    "print(f\"The factorial of {number} is: {factorial_result}\")\n"
   ]
  },
  {
   "cell_type": "code",
   "execution_count": 8,
   "id": "466fbcc0",
   "metadata": {},
   "outputs": [
    {
     "name": "stdout",
     "output_type": "stream",
     "text": [
      "H\n",
      "e\n",
      "l\n",
      "l\n",
      "o\n",
      ",\n",
      " \n",
      "W\n",
      "o\n",
      "r\n",
      "l\n",
      "d\n",
      "!\n"
     ]
    }
   ],
   "source": [
    "#8\n",
    "my_string = \"Hello, World!\"\n",
    "\n",
    "for char in my_string:\n",
    "    print(char)\n"
   ]
  },
  {
   "cell_type": "code",
   "execution_count": 9,
   "id": "8e5daeb7",
   "metadata": {},
   "outputs": [
    {
     "name": "stdout",
     "output_type": "stream",
     "text": [
      "The largest number in the list is: 89\n"
     ]
    }
   ],
   "source": [
    "def find_largest(numbers):\n",
    "    largest = numbers[0]\n",
    "    for num in numbers:\n",
    "        if num > largest:\n",
    "            largest = num\n",
    "    return largest\n",
    "\n",
    "# Example usage\n",
    "my_list = [12, 45, 78, 34, 56, 89, 23, 67]\n",
    "largest_number = find_largest(my_list)\n",
    "print(f\"The largest number in the list is: {largest_number}\")\n"
   ]
  },
  {
   "cell_type": "code",
   "execution_count": 11,
   "id": "bd27074b",
   "metadata": {},
   "outputs": [
    {
     "name": "stdout",
     "output_type": "stream",
     "text": [
      "The Fibonacci sequence up to 100 is: [0, 1, 1, 2, 3, 5, 8, 13, 21, 34, 55, 89]\n"
     ]
    }
   ],
   "source": [
    "#10\n",
    "def fibonacci(limit):\n",
    "    fib_sequence = [0, 1]\n",
    "\n",
    "    while fib_sequence[-1] + fib_sequence[-2] <= limit:\n",
    "        fib_sequence.append(fib_sequence[-1] + fib_sequence[-2])\n",
    "\n",
    "    return fib_sequence\n",
    "\n",
    "# Example usage\n",
    "limit = 100\n",
    "fibonacci_sequence = fibonacci(limit)\n",
    "print(f\"The Fibonacci sequence up to {limit} is: {fibonacci_sequence}\")\n"
   ]
  },
  {
   "cell_type": "markdown",
   "id": "2657b0d0",
   "metadata": {},
   "source": [
    "# If else :"
   ]
  },
  {
   "cell_type": "code",
   "execution_count": 12,
   "id": "279d3139",
   "metadata": {},
   "outputs": [
    {
     "name": "stdout",
     "output_type": "stream",
     "text": [
      "5 is a positive number.\n",
      "-2 is a negative number.\n",
      "0 is zero.\n"
     ]
    }
   ],
   "source": [
    "# 1\n",
    "def check_number(num):\n",
    "    if num > 0:\n",
    "        print(f\"{num} is a positive number.\")\n",
    "    elif num < 0:\n",
    "        print(f\"{num} is a negative number.\")\n",
    "    else:\n",
    "        print(f\"{num} is zero.\")\n",
    "\n",
    "# Example usage\n",
    "check_number(5)  # Output: \"5 is a positive number.\"\n",
    "check_number(-2)  # Output: \"-2 is a negative number.\"\n",
    "check_number(0)  # Output: \"0 is zero.\"\n"
   ]
  },
  {
   "cell_type": "code",
   "execution_count": 13,
   "id": "650851e3",
   "metadata": {},
   "outputs": [
    {
     "name": "stdout",
     "output_type": "stream",
     "text": [
      "4 is an even number.\n",
      "7 is an odd number.\n",
      "0 is an even number.\n"
     ]
    }
   ],
   "source": [
    "#2\n",
    "def check_even_odd(num):\n",
    "    if num % 2 == 0:\n",
    "        print(f\"{num} is an even number.\")\n",
    "    else:\n",
    "        print(f\"{num} is an odd number.\")\n",
    "\n",
    "# Example usage\n",
    "check_even_odd(4)  # Output: \"4 is an even number.\"\n",
    "check_even_odd(7)  # Output: \"7 is an odd number.\"\n",
    "check_even_odd(0)  # Output: \"0 is an even number.\"\n"
   ]
  },
  {
   "cell_type": "code",
   "execution_count": 14,
   "id": "62ebf67d",
   "metadata": {},
   "outputs": [
    {
     "name": "stdout",
     "output_type": "stream",
     "text": [
      "For a score of 95, the grade is A\n",
      "For a score of 82, the grade is B\n",
      "For a score of 70, the grade is C\n"
     ]
    }
   ],
   "source": [
    "#3\n",
    "def check_grade(score):\n",
    "    if score >= 90:\n",
    "        grade = 'A'\n",
    "        if score == 100:\n",
    "            grade += '+'\n",
    "    else:\n",
    "        if score >= 80:\n",
    "            grade = 'B'\n",
    "            if score >= 85:\n",
    "                grade += '+'\n",
    "        else:\n",
    "            if score >= 70:\n",
    "                grade = 'C'\n",
    "                if score >= 75:\n",
    "                    grade += '+'\n",
    "            else:\n",
    "                grade = 'F'\n",
    "    return grade\n",
    "\n",
    "# Example usage\n",
    "score1 = 95\n",
    "score2 = 82\n",
    "score3 = 70\n",
    "\n",
    "grade1 = check_grade(score1)\n",
    "grade2 = check_grade(score2)\n",
    "grade3 = check_grade(score3)\n",
    "\n",
    "print(f\"For a score of {score1}, the grade is {grade1}\")\n",
    "print(f\"For a score of {score2}, the grade is {grade2}\")\n",
    "print(f\"For a score of {score3}, the grade is {grade3}\")\n"
   ]
  },
  {
   "cell_type": "code",
   "execution_count": 16,
   "id": "99fe8bc3",
   "metadata": {},
   "outputs": [
    {
     "name": "stdout",
     "output_type": "stream",
     "text": [
      "The largest number among 25, 30, and 20 is: 30\n"
     ]
    }
   ],
   "source": [
    "def find_largest_of_three(num1, num2, num3):\n",
    "    if num1 >= num2 and num1 >= num3:\n",
    "        largest = num1\n",
    "    elif num2 >= num1 and num2 >= num3:\n",
    "        largest = num2\n",
    "    else:\n",
    "        largest = num3\n",
    "    return largest\n",
    "\n",
    "# Example usage\n",
    "num1 = 25\n",
    "num2 = 30\n",
    "num3 = 20\n",
    "\n",
    "largest_number = find_largest_of_three(num1, num2, num3)\n",
    "print(f\"The largest number among {num1}, {num2}, and {num3} is: {largest_number}\")\n"
   ]
  },
  {
   "cell_type": "code",
   "execution_count": 17,
   "id": "c349ad3c",
   "metadata": {},
   "outputs": [
    {
     "name": "stdout",
     "output_type": "stream",
     "text": [
      "The absolute value of -5 is: 5\n"
     ]
    }
   ],
   "source": [
    "def absolute_value(num):\n",
    "    if num >= 0:\n",
    "        return num\n",
    "    else:\n",
    "        return -num\n",
    "\n",
    "# Example usage\n",
    "number = -5\n",
    "abs_value = absolute_value(number)\n",
    "print(f\"The absolute value of {number} is: {abs_value}\")\n"
   ]
  },
  {
   "cell_type": "code",
   "execution_count": 18,
   "id": "6bb079bb",
   "metadata": {},
   "outputs": [
    {
     "name": "stdout",
     "output_type": "stream",
     "text": [
      "A is a vowel.\n",
      "b is a consonant.\n",
      "e is a vowel.\n",
      "z is a consonant.\n"
     ]
    }
   ],
   "source": [
    "def check_vowel_or_consonant(char):\n",
    "    if char.lower() in 'aeiou':\n",
    "        return f\"{char} is a vowel.\"\n",
    "    else:\n",
    "        return f\"{char} is a consonant.\"\n",
    "\n",
    "# Example usage\n",
    "char1 = 'A'\n",
    "char2 = 'b'\n",
    "char3 = 'e'\n",
    "char4 = 'z'\n",
    "\n",
    "result1 = check_vowel_or_consonant(char1)\n",
    "result2 = check_vowel_or_consonant(char2)\n",
    "result3 = check_vowel_or_consonant(char3)\n",
    "result4 = check_vowel_or_consonant(char4)\n",
    "\n",
    "print(result1)\n",
    "print(result2)\n",
    "print(result3)\n",
    "print(result4)\n"
   ]
  },
  {
   "cell_type": "code",
   "execution_count": 19,
   "id": "33c4e154",
   "metadata": {},
   "outputs": [
    {
     "name": "stdout",
     "output_type": "stream",
     "text": [
      "You are eligible to vote.\n"
     ]
    }
   ],
   "source": [
    "def check_voting_eligibility(age):\n",
    "    if age >= 18:\n",
    "        return \"You are eligible to vote.\"\n",
    "    else:\n",
    "        return \"You are not eligible to vote yet.\"\n",
    "\n",
    "# Example usage\n",
    "user_age = 20\n",
    "result = check_voting_eligibility(user_age)\n",
    "print(result)\n"
   ]
  },
  {
   "cell_type": "code",
   "execution_count": 20,
   "id": "f49a4cb2",
   "metadata": {},
   "outputs": [
    {
     "name": "stdout",
     "output_type": "stream",
     "text": [
      "Original amount: $1200\n",
      "Discount amount: $120.0\n",
      "Final amount after discount: $1080.0\n"
     ]
    }
   ],
   "source": [
    "def calculate_discount(purchase_amount):\n",
    "    if purchase_amount >= 1000:\n",
    "        discount = 0.1 * purchase_amount  # 10% discount for purchases over $1000\n",
    "    else:\n",
    "        discount = 0  # No discount for purchases less than $1000\n",
    "    return discount\n",
    "\n",
    "# Example usage\n",
    "amount = 1200\n",
    "discount_amount = calculate_discount(amount)\n",
    "final_amount = amount - discount_amount\n",
    "\n",
    "print(f\"Original amount: ${amount}\")\n",
    "print(f\"Discount amount: ${discount_amount}\")\n",
    "print(f\"Final amount after discount: ${final_amount}\")\n"
   ]
  },
  {
   "cell_type": "code",
   "execution_count": 21,
   "id": "ede01743",
   "metadata": {},
   "outputs": [
    {
     "name": "stdout",
     "output_type": "stream",
     "text": [
      "15 is within the specified range.\n",
      "5 is outside the specified range.\n",
      "35 is outside the specified range.\n"
     ]
    }
   ],
   "source": [
    "def check_in_range(number, lower_limit, upper_limit):\n",
    "    if lower_limit <= number <= upper_limit:\n",
    "        return f\"{number} is within the specified range.\"\n",
    "    else:\n",
    "        return f\"{number} is outside the specified range.\"\n",
    "\n",
    "# Example usage\n",
    "lower_limit = 10\n",
    "upper_limit = 30\n",
    "\n",
    "num1 = 15\n",
    "num2 = 5\n",
    "num3 = 35\n",
    "\n",
    "result1 = check_in_range(num1, lower_limit, upper_limit)\n",
    "result2 = check_in_range(num2, lower_limit, upper_limit)\n",
    "result3 = check_in_range(num3, lower_limit, upper_limit)\n",
    "\n",
    "print(result1)\n",
    "print(result2)\n",
    "print(result3)\n"
   ]
  },
  {
   "cell_type": "code",
   "execution_count": 22,
   "id": "ab1f12a0",
   "metadata": {},
   "outputs": [
    {
     "name": "stdout",
     "output_type": "stream",
     "text": [
      "For a score of 85, the grade is B\n"
     ]
    }
   ],
   "source": [
    "def calculate_grade(score):\n",
    "    if 90 <= score <= 100:\n",
    "        return 'A'\n",
    "    elif 80 <= score < 90:\n",
    "        return 'B'\n",
    "    elif 70 <= score < 80:\n",
    "        return 'C'\n",
    "    elif 60 <= score < 70:\n",
    "        return 'D'\n",
    "    else:\n",
    "        return 'F'\n",
    "\n",
    "# Example usage\n",
    "student_score = 85\n",
    "student_grade = calculate_grade(student_score)\n",
    "\n",
    "print(f\"For a score of {student_score}, the grade is {student_grade}\")\n"
   ]
  },
  {
   "cell_type": "markdown",
   "id": "bece9213",
   "metadata": {},
   "source": [
    "# Map :-"
   ]
  },
  {
   "cell_type": "code",
   "execution_count": 23,
   "id": "206024e8",
   "metadata": {},
   "outputs": [
    {
     "name": "stdout",
     "output_type": "stream",
     "text": [
      "[1, 4, 9, 16, 25]\n"
     ]
    }
   ],
   "source": [
    "# The map() function in Python is used to apply a specified function to every item in an iterable (such as a list, tuple, or other iterable types) and return a new iterable with the modified values.\n",
    "# Define a function to square a number\n",
    "def square(x):\n",
    "    return x ** 2\n",
    "\n",
    "# Create a list of numbers\n",
    "numbers = [1, 2, 3, 4, 5]\n",
    "\n",
    "# Use map() to apply the square function to each element of the list\n",
    "squared_numbers = map(square, numbers)\n",
    "\n",
    "# Convert the map object to a list to see the results\n",
    "squared_numbers_list = list(squared_numbers)\n",
    "\n",
    "print(squared_numbers_list)"
   ]
  },
  {
   "cell_type": "code",
   "execution_count": 24,
   "id": "638664cc",
   "metadata": {},
   "outputs": [
    {
     "name": "stdout",
     "output_type": "stream",
     "text": [
      "[1, 4, 9, 16, 25]\n"
     ]
    }
   ],
   "source": [
    "# Define a function to square a number\n",
    "def square(x):\n",
    "    return x ** 2\n",
    "\n",
    "# Create a list of numbers\n",
    "numbers = [1, 2, 3, 4, 5]\n",
    "\n",
    "# Use map() to apply the square function to each element of the list\n",
    "squared_numbers = map(square, numbers)\n",
    "\n",
    "# Convert the map object to a list to see the results\n",
    "squared_numbers_list = list(squared_numbers)\n",
    "\n",
    "print(squared_numbers_list)\n",
    "\n"
   ]
  },
  {
   "cell_type": "code",
   "execution_count": 25,
   "id": "d11989b1",
   "metadata": {},
   "outputs": [],
   "source": [
    "# map() Function:\n",
    "\n",
    "# The map() function takes a function and an iterable as input and applies the function to each element in the iterable, returning a map object (which is an iterator).\n",
    "# It doesn't compute the results immediately, but rather generates them on-the-fly as they are requested.\n",
    "# You need to convert the map object to a list (or other data structure) if you want to see the results immediately.\n",
    "# It's particularly useful when you want to apply a specific operation to each element of an iterable without having to explicitly loop through it.\n",
    "\n",
    "# List Comprehensions:\n",
    "\n",
    "# List comprehensions provide a concise and readable way to create new lists by specifying the operation and the conditions directly within square brackets [].\n",
    "# They generate a new list immediately when executed.\n",
    "# List comprehensions can often be more readable and straightforward, especially for simple operations."
   ]
  },
  {
   "cell_type": "code",
   "execution_count": 26,
   "id": "a3fc889f",
   "metadata": {},
   "outputs": [
    {
     "name": "stdout",
     "output_type": "stream",
     "text": [
      "['ALICE', 'BOB', 'CHARLIE', 'DAVID']\n"
     ]
    }
   ],
   "source": [
    "# List of names\n",
    "names = [\"Alice\", \"Bob\", \"Charlie\", \"David\"]\n",
    "\n",
    "# Use map() to convert names to uppercase\n",
    "uppercase_names = map(str.upper, names)\n",
    "\n",
    "# Convert the map object to a list to see the results\n",
    "uppercase_names_list = list(uppercase_names)\n",
    "\n",
    "print(uppercase_names_list)\n"
   ]
  },
  {
   "cell_type": "code",
   "execution_count": 27,
   "id": "01170cb1",
   "metadata": {},
   "outputs": [
    {
     "name": "stdout",
     "output_type": "stream",
     "text": [
      "[5, 6, 6, 4]\n"
     ]
    }
   ],
   "source": [
    "# List of strings\n",
    "words = [\"apple\", \"banana\", \"cherry\", \"date\"]\n",
    "\n",
    "# Use map() to calculate the length of each word\n",
    "word_lengths = map(len, words)\n",
    "\n",
    "# Convert the map object to a list to see the results\n",
    "word_lengths_list = list(word_lengths)\n",
    "\n",
    "print(word_lengths_list)\n"
   ]
  },
  {
   "cell_type": "code",
   "execution_count": 28,
   "id": "ceabfd8d",
   "metadata": {},
   "outputs": [
    {
     "name": "stdout",
     "output_type": "stream",
     "text": [
      "[5, 7, 9]\n"
     ]
    }
   ],
   "source": [
    "# Define custom function to add elements from two lists\n",
    "add_lists = lambda x, y: x + y\n",
    "\n",
    "# Define two lists\n",
    "list1 = [1, 2, 3]\n",
    "list2 = [4, 5, 6]\n",
    "\n",
    "# Use map() to apply the custom function to elements of both lists\n",
    "result = map(add_lists, list1, list2)\n",
    "\n",
    "# Convert the map object to a list to see the results\n",
    "result_list = list(result)\n",
    "\n",
    "print(result_list)\n"
   ]
  },
  {
   "cell_type": "code",
   "execution_count": 29,
   "id": "72cd71f1",
   "metadata": {},
   "outputs": [
    {
     "name": "stdout",
     "output_type": "stream",
     "text": [
      "Celsius Temperatures: [0, 10, 20, 30, 40]\n",
      "Fahrenheit Temperatures: [32.0, 50.0, 68.0, 86.0, 104.0]\n"
     ]
    }
   ],
   "source": [
    "def celsius_to_fahrenheit(celsius):\n",
    "    return (celsius * 9/5) + 32\n",
    "\n",
    "def main():\n",
    "    celsius_temperatures = [0, 10, 20, 30, 40]\n",
    "\n",
    "    fahrenheit_temperatures = list(map(celsius_to_fahrenheit, celsius_temperatures))\n",
    "\n",
    "    print(f\"Celsius Temperatures: {celsius_temperatures}\")\n",
    "    print(f\"Fahrenheit Temperatures: {fahrenheit_temperatures}\")\n",
    "\n",
    "if __name__ == \"__main__\":\n",
    "    main()\n"
   ]
  },
  {
   "cell_type": "code",
   "execution_count": 30,
   "id": "fc079654",
   "metadata": {},
   "outputs": [
    {
     "name": "stdout",
     "output_type": "stream",
     "text": [
      "Floating-point Numbers: [1.5, 2.7, 3.2, 4.8, 5.1]\n",
      "Rounded Integers: [2, 3, 3, 5, 5]\n"
     ]
    }
   ],
   "source": [
    "def round_to_nearest_integer(num):\n",
    "    return round(num)\n",
    "\n",
    "def main():\n",
    "    float_numbers = [1.5, 2.7, 3.2, 4.8, 5.1]\n",
    "\n",
    "    rounded_integers = list(map(round_to_nearest_integer, float_numbers))\n",
    "\n",
    "    print(f\"Floating-point Numbers: {float_numbers}\")\n",
    "    print(f\"Rounded Integers: {rounded_integers}\")\n",
    "\n",
    "if __name__ == \"__main__\":\n",
    "    main()\n"
   ]
  },
  {
   "cell_type": "markdown",
   "id": "4bf267d9",
   "metadata": {},
   "source": [
    "# Reduce :-"
   ]
  },
  {
   "cell_type": "code",
   "execution_count": 31,
   "id": "dce084b9",
   "metadata": {},
   "outputs": [
    {
     "name": "stdout",
     "output_type": "stream",
     "text": [
      "The sum of the numbers is: 15\n"
     ]
    }
   ],
   "source": [
    "from functools import reduce\n",
    "\n",
    "# Define a function that takes two arguments and returns their sum\n",
    "def add(x, y):\n",
    "    return x + y\n",
    "\n",
    "# Create a list of numbers\n",
    "numbers = [1, 2, 3, 4, 5]\n",
    "\n",
    "# Use reduce() to calculate the sum of the numbers\n",
    "result = reduce(add, numbers)\n",
    "\n",
    "print(f\"The sum of the numbers is: {result}\")\n"
   ]
  },
  {
   "cell_type": "code",
   "execution_count": 32,
   "id": "f9b89c30",
   "metadata": {},
   "outputs": [
    {
     "name": "stdout",
     "output_type": "stream",
     "text": [
      "The product of the numbers is: 120\n"
     ]
    }
   ],
   "source": [
    "from functools import reduce\n",
    "\n",
    "def multiply(x, y):\n",
    "    return x * y\n",
    "\n",
    "def main():\n",
    "    numbers = [1, 2, 3, 4, 5]\n",
    "\n",
    "    product = reduce(multiply, numbers)\n",
    "\n",
    "    print(f\"The product of the numbers is: {product}\")\n",
    "\n",
    "if __name__ == \"__main__\":\n",
    "    main()\n"
   ]
  },
  {
   "cell_type": "code",
   "execution_count": 34,
   "id": "105a4916",
   "metadata": {},
   "outputs": [
    {
     "name": "stdout",
     "output_type": "stream",
     "text": [
      "The maximum element in the list is: 10\n"
     ]
    }
   ],
   "source": [
    "from functools import reduce\n",
    "\n",
    "def find_max(x, y):\n",
    "    return max(x, y)\n",
    "\n",
    "def main():\n",
    "    numbers = [4, 8, 2, 10, 6, 3]\n",
    "\n",
    "    max_number = reduce(find_max, numbers)\n",
    "\n",
    "    print(f\"The maximum element in the list is: {max_number}\")\n",
    "\n",
    "if __name__ == \"__main__\":\n",
    "    main()\n"
   ]
  },
  {
   "cell_type": "code",
   "execution_count": 35,
   "id": "341092ba",
   "metadata": {},
   "outputs": [
    {
     "name": "stdout",
     "output_type": "stream",
     "text": [
      "The concatenated string is: Hello, how are you?\n"
     ]
    }
   ],
   "source": [
    "from functools import reduce\n",
    "\n",
    "# Define a function that concatenates two strings\n",
    "concatenate = lambda x, y: x + y\n",
    "\n",
    "def main():\n",
    "    strings = [\"Hello, \", \"how \", \"are \", \"you?\"]\n",
    "\n",
    "    concatenated_string = reduce(concatenate, strings)\n",
    "\n",
    "    print(f\"The concatenated string is: {concatenated_string}\")\n",
    "\n",
    "if __name__ == \"__main__\":\n",
    "    main()\n"
   ]
  },
  {
   "cell_type": "code",
   "execution_count": 36,
   "id": "1831a7b0",
   "metadata": {},
   "outputs": [
    {
     "name": "stdout",
     "output_type": "stream",
     "text": [
      "Enter a non-negative integer: 5\n",
      "The factorial of 5 is: 120\n"
     ]
    }
   ],
   "source": [
    "from functools import reduce\n",
    "\n",
    "def multiply(x, y):\n",
    "    return x * y\n",
    "\n",
    "def factorial(n):\n",
    "    return reduce(multiply, range(1, n+1))\n",
    "\n",
    "def main():\n",
    "    n = int(input(\"Enter a non-negative integer: \"))\n",
    "\n",
    "    if n < 0:\n",
    "        print(\"Factorial is not defined for negative numbers.\")\n",
    "    else:\n",
    "        result = factorial(n)\n",
    "        print(f\"The factorial of {n} is: {result}\")\n",
    "\n",
    "if __name__ == \"__main__\":\n",
    "    main()\n"
   ]
  },
  {
   "cell_type": "code",
   "execution_count": 37,
   "id": "9fac4bb4",
   "metadata": {},
   "outputs": [
    {
     "name": "stdout",
     "output_type": "stream",
     "text": [
      "The GCD of the numbers is: 12\n"
     ]
    }
   ],
   "source": [
    "from functools import reduce\n",
    "from math import gcd\n",
    "\n",
    "def find_gcd(x, y):\n",
    "    return gcd(x, y)\n",
    "\n",
    "def main():\n",
    "    numbers = [24, 36, 48, 60]\n",
    "\n",
    "    gcd_result = reduce(find_gcd, numbers)\n",
    "\n",
    "    print(f\"The GCD of the numbers is: {gcd_result}\")\n",
    "\n",
    "if __name__ == \"__main__\":\n",
    "    main()\n",
    "\n",
    "    "
   ]
  },
  {
   "cell_type": "code",
   "execution_count": 38,
   "id": "c09bc381",
   "metadata": {},
   "outputs": [
    {
     "name": "stdout",
     "output_type": "stream",
     "text": [
      "Enter a non-negative integer: 56\n",
      "The sum of the digits of 56 is: 11\n"
     ]
    }
   ],
   "source": [
    "from functools import reduce\n",
    "\n",
    "def sum_digits(x, y):\n",
    "    return int(x) + int(y)\n",
    "\n",
    "def main():\n",
    "    number = input(\"Enter a non-negative integer: \")\n",
    "\n",
    "    if not number.isdigit():\n",
    "        print(\"Please enter a valid non-negative integer.\")\n",
    "    else:\n",
    "        digit_sum = reduce(sum_digits, number)\n",
    "\n",
    "        print(f\"The sum of the digits of {number} is: {digit_sum}\")\n",
    "\n",
    "if __name__ == \"__main__\":\n",
    "    main()\n"
   ]
  },
  {
   "cell_type": "markdown",
   "id": "4cddb166",
   "metadata": {},
   "source": [
    "# Filter :-"
   ]
  },
  {
   "cell_type": "code",
   "execution_count": 39,
   "id": "c91e5159",
   "metadata": {},
   "outputs": [
    {
     "name": "stdout",
     "output_type": "stream",
     "text": [
      "The even numbers are: [2, 4, 6, 8, 10]\n"
     ]
    }
   ],
   "source": [
    "def is_even(num):\n",
    "    return num % 2 == 0\n",
    "\n",
    "numbers = [1, 2, 3, 4, 5, 6, 7, 8, 9, 10]\n",
    "\n",
    "even_numbers = list(filter(is_even, numbers))\n",
    "\n",
    "print(f\"The even numbers are: {even_numbers}\")\n"
   ]
  },
  {
   "cell_type": "code",
   "execution_count": 40,
   "id": "0963b044",
   "metadata": {},
   "outputs": [
    {
     "name": "stdout",
     "output_type": "stream",
     "text": [
      "The even numbers are: [2, 4, 6, 8, 10]\n"
     ]
    }
   ],
   "source": [
    "def is_even(num):\n",
    "    return num % 2 == 0\n",
    "\n",
    "def main():\n",
    "    numbers = [1, 2, 3, 4, 5, 6, 7, 8, 9, 10]\n",
    "\n",
    "    even_numbers = list(filter(is_even, numbers))\n",
    "\n",
    "    print(f\"The even numbers are: {even_numbers}\")\n",
    "\n",
    "if __name__ == \"__main__\":\n",
    "    main()\n"
   ]
  },
  {
   "cell_type": "code",
   "execution_count": 41,
   "id": "29c6777b",
   "metadata": {},
   "outputs": [
    {
     "name": "stdout",
     "output_type": "stream",
     "text": [
      "The prime numbers are: [2, 3, 5, 7]\n"
     ]
    }
   ],
   "source": [
    "def is_prime(num):\n",
    "    if num < 2:\n",
    "        return False\n",
    "    for i in range(2, int(num**0.5) + 1):\n",
    "        if num % i == 0:\n",
    "            return False\n",
    "    return True\n",
    "\n",
    "def main():\n",
    "    numbers = [1, 2, 3, 4, 5, 6, 7, 8, 9, 10]\n",
    "\n",
    "    prime_numbers = list(filter(is_prime, numbers))\n",
    "\n",
    "    print(f\"The prime numbers are: {prime_numbers}\")\n",
    "\n",
    "if __name__ == \"__main__\":\n",
    "    main()\n"
   ]
  },
  {
   "cell_type": "code",
   "execution_count": 42,
   "id": "a8e7ac11",
   "metadata": {},
   "outputs": [
    {
     "name": "stdout",
     "output_type": "stream",
     "text": [
      "Words longer than 5 characters: ['banana', 'cherry', 'elderberry']\n"
     ]
    }
   ],
   "source": [
    "def is_long_word(word, length):\n",
    "    return len(word) > length\n",
    "\n",
    "def main():\n",
    "    words = [\"apple\", \"banana\", \"cherry\", \"date\", \"elderberry\", \"fig\"]\n",
    "    min_length = 5\n",
    "\n",
    "    long_words = list(filter(lambda x: is_long_word(x, min_length), words))\n",
    "\n",
    "    print(f\"Words longer than {min_length} characters: {long_words}\")\n",
    "\n",
    "if __name__ == \"__main__\":\n",
    "    main()\n"
   ]
  },
  {
   "cell_type": "code",
   "execution_count": 43,
   "id": "d2313d36",
   "metadata": {},
   "outputs": [
    {
     "name": "stdout",
     "output_type": "stream",
     "text": [
      "Values greater than 30: [40, 50, 60]\n"
     ]
    }
   ],
   "source": [
    "def greater_than_threshold(value, threshold):\n",
    "    return value > threshold\n",
    "\n",
    "def main():\n",
    "    values = [10, 20, 30, 40, 50, 60]\n",
    "    threshold = 30\n",
    "\n",
    "    filtered_values = list(filter(lambda x: greater_than_threshold(x, threshold), values))\n",
    "\n",
    "    print(f\"Values greater than {threshold}: {filtered_values}\")\n",
    "\n",
    "if __name__ == \"__main__\":\n",
    "    main()\n"
   ]
  },
  {
   "cell_type": "code",
   "execution_count": 44,
   "id": "81261b83",
   "metadata": {},
   "outputs": [
    {
     "name": "stdout",
     "output_type": "stream",
     "text": [
      "Values greater than 5: [7, 9, 8, 6]\n"
     ]
    }
   ],
   "source": [
    "def filter_greater_than_threshold(threshold, values):\n",
    "    # Define a lambda function to use as the filter condition\n",
    "    condition = lambda x: x > threshold\n",
    "\n",
    "    # Use filter() to apply the condition to the list of values\n",
    "    filtered_values = list(filter(condition, values))\n",
    "\n",
    "    return filtered_values\n",
    "\n",
    "# Example usage\n",
    "threshold = 5\n",
    "values = [2, 7, 4, 9, 1, 8, 3, 6]\n",
    "\n",
    "result = filter_greater_than_threshold(threshold, values)\n",
    "\n",
    "print(f\"Values greater than {threshold}: {result}\")\n"
   ]
  },
  {
   "cell_type": "markdown",
   "id": "ef4fdd2d",
   "metadata": {},
   "source": [
    "# Recursion:-"
   ]
  },
  {
   "cell_type": "code",
   "execution_count": 45,
   "id": "1278acbe",
   "metadata": {},
   "outputs": [],
   "source": [
    "# # Recursion is a programming concept where a function calls itself in order to solve a problem. In a recursive function, \n",
    "# the function keeps calling itself with modified arguments until it reaches a base case, at which point it returns a result\n",
    "# without making any further recursive calls. Recursion is a powerful technique that can be used to solve complex problems \n",
    "# by breaking them down into smaller, more manageable subproblems.\n",
    "\n",
    "def factorial(n):\n",
    "    if n == 0:\n",
    "        return 1\n",
    "    else:\n",
    "        return n * factorial(n - 1)\n"
   ]
  },
  {
   "cell_type": "code",
   "execution_count": 46,
   "id": "5def661a",
   "metadata": {},
   "outputs": [
    {
     "name": "stdout",
     "output_type": "stream",
     "text": [
      "The factorial of 5 is 120\n"
     ]
    }
   ],
   "source": [
    "def factorial(n):\n",
    "    if n == 0:\n",
    "        return 1\n",
    "    else:\n",
    "        return n * factorial(n - 1)\n",
    "\n",
    "# Example usage\n",
    "num = 5\n",
    "result = factorial(num)\n",
    "print(f\"The factorial of {num} is {result}\")"
   ]
  },
  {
   "cell_type": "code",
   "execution_count": 47,
   "id": "d6f56e8f",
   "metadata": {},
   "outputs": [
    {
     "name": "stdout",
     "output_type": "stream",
     "text": [
      "The 6th Fibonacci number is 8\n"
     ]
    }
   ],
   "source": [
    "def fibonacci(n):\n",
    "    if n <= 1:\n",
    "        return n\n",
    "    else:\n",
    "        return fibonacci(n-1) + fibonacci(n-2)\n",
    "\n",
    "# Example usage\n",
    "n = 6\n",
    "result = fibonacci(n)\n",
    "print(f\"The {n}th Fibonacci number is {result}\")\n"
   ]
  },
  {
   "cell_type": "code",
   "execution_count": 48,
   "id": "d4fba386",
   "metadata": {},
   "outputs": [
    {
     "name": "stdout",
     "output_type": "stream",
     "text": [
      "The sum of the elements in the list is 15\n"
     ]
    }
   ],
   "source": [
    "def sum_list(lst):\n",
    "    if not lst:\n",
    "        return 0\n",
    "    else:\n",
    "        return lst[0] + sum_list(lst[1:])\n",
    "\n",
    "# Example usage\n",
    "my_list = [1, 2, 3, 4, 5]\n",
    "result = sum_list(my_list)\n",
    "print(f\"The sum of the elements in the list is {result}\")\n"
   ]
  },
  {
   "cell_type": "code",
   "execution_count": 49,
   "id": "89be560c",
   "metadata": {},
   "outputs": [
    {
     "name": "stdout",
     "output_type": "stream",
     "text": [
      "'radar' is a palindrome: True\n",
      "'hello' is a palindrome: False\n"
     ]
    }
   ],
   "source": [
    "def is_palindrome(s):\n",
    "    # Base case: If the string is empty or has only one character, it's a palindrome\n",
    "    if len(s) <= 1:\n",
    "        return True\n",
    "    \n",
    "    # Check if the first and last characters are equal\n",
    "    if s[0] == s[-1]:\n",
    "        # Recursively check the substring without the first and last characters\n",
    "        return is_palindrome(s[1:-1])\n",
    "    else:\n",
    "        return False\n",
    "\n",
    "# Example usage\n",
    "test_string1 = \"radar\"\n",
    "test_string2 = \"hello\"\n",
    "\n",
    "result1 = is_palindrome(test_string1)\n",
    "result2 = is_palindrome(test_string2)\n",
    "\n",
    "print(f\"'{test_string1}' is a palindrome: {result1}\")\n",
    "print(f\"'{test_string2}' is a palindrome: {result2}\")\n"
   ]
  },
  {
   "cell_type": "code",
   "execution_count": 50,
   "id": "8a1c0502",
   "metadata": {},
   "outputs": [
    {
     "name": "stdout",
     "output_type": "stream",
     "text": [
      "All possible combinations:\n",
      "[1, 2, 3]\n",
      "[1, 2]\n",
      "[1, 3]\n",
      "[1]\n",
      "[2, 3]\n",
      "[2]\n",
      "[3]\n",
      "[]\n"
     ]
    }
   ],
   "source": [
    "def generate_combinations(lst):\n",
    "    if not lst:\n",
    "        return [[]]\n",
    "\n",
    "    # Get the first element of the list\n",
    "    first_element = lst[0]\n",
    "\n",
    "    # Recursively generate combinations without the first element\n",
    "    combinations_without_first = generate_combinations(lst[1:])\n",
    "\n",
    "    # Add combinations without the first element\n",
    "    combinations_with_first = []\n",
    "    for combination in combinations_without_first:\n",
    "        combinations_with_first.append([first_element] + combination)\n",
    "\n",
    "    # Combine combinations with and without the first element\n",
    "    return combinations_with_first + combinations_without_first\n",
    "\n",
    "# Example usage\n",
    "my_list = [1, 2, 3]\n",
    "\n",
    "result = generate_combinations(my_list)\n",
    "\n",
    "print(\"All possible combinations:\")\n",
    "for combination in result:\n",
    "    print(combination)\n"
   ]
  },
  {
   "cell_type": "markdown",
   "id": "25d554f4",
   "metadata": {},
   "source": [
    "# Basics of Functions:"
   ]
  },
  {
   "cell_type": "code",
   "execution_count": 51,
   "id": "fadacb1f",
   "metadata": {},
   "outputs": [],
   "source": [
    "# /*In Python, a function is a block of reusable code that performs a specific task or set of tasks. Functions are defined \n",
    "# using the def keyword, followed by the function name, a pair of parentheses (), and a colon :. They can take input\n",
    "#     parameters (arguments) and optionally return a value."
   ]
  },
  {
   "cell_type": "code",
   "execution_count": 53,
   "id": "88fa7a32",
   "metadata": {},
   "outputs": [],
   "source": [
    "def add_numbers(x, y):\n",
    "    result = x + y\n",
    "    return result"
   ]
  },
  {
   "cell_type": "code",
   "execution_count": 54,
   "id": "099344cc",
   "metadata": {},
   "outputs": [],
   "source": [
    "# Function Name: The name of the function. This is how you refer to and call the function in your code.\n",
    "\n",
    "# Parameters (Input): It lists the parameters (if any) that the function expects to receive when it is called. This includes the parameter names and their types.\n",
    "\n",
    "# Return Type (Output): It specifies the type of value that the function returns, if it does return a value. If the function doesn't return anything, this may be indicated by using None or not specifying a return type."
   ]
  },
  {
   "cell_type": "code",
   "execution_count": 55,
   "id": "6a9955c2",
   "metadata": {},
   "outputs": [],
   "source": [
    "def multiply(x, y):\n",
    "    result = x * y\n",
    "    return result\n"
   ]
  },
  {
   "cell_type": "markdown",
   "id": "ba39833d",
   "metadata": {},
   "source": [
    "# Function Parameters and Arguments:\n"
   ]
  },
  {
   "cell_type": "code",
   "execution_count": 57,
   "id": "a9226f6a",
   "metadata": {},
   "outputs": [
    {
     "name": "stdout",
     "output_type": "stream",
     "text": [
      "Hello, User!\n",
      "Hello, John!\n"
     ]
    }
   ],
   "source": [
    "def greet(name=\"User\"):\n",
    "    print(f\"Hello, {name}!\")\n",
    "\n",
    "# Example usage\n",
    "greet()  # Output: Hello, User!\n",
    "greet(\"John\")  # Output: Hello, John!\n"
   ]
  },
  {
   "cell_type": "code",
   "execution_count": 58,
   "id": "8b0a2703",
   "metadata": {},
   "outputs": [
    {
     "name": "stdout",
     "output_type": "stream",
     "text": [
      "6\n",
      "30\n"
     ]
    }
   ],
   "source": [
    "def calculate_sum(*args):\n",
    "    total = 0\n",
    "    for num in args:\n",
    "        total += num\n",
    "    return total\n",
    "result1 = calculate_sum(1, 2, 3)\n",
    "print(result1)  # Output: 6\n",
    "\n",
    "result2 = calculate_sum(4, 5, 6, 7, 8)\n",
    "print(result2)  # Output: 30\n"
   ]
  },
  {
   "cell_type": "markdown",
   "id": "159a7ab2",
   "metadata": {},
   "source": [
    "#  Return Values and Scoping:\n"
   ]
  },
  {
   "cell_type": "code",
   "execution_count": 59,
   "id": "dd50ea4b",
   "metadata": {},
   "outputs": [
    {
     "name": "stdout",
     "output_type": "stream",
     "text": [
      "Global variable before modification: 10\n",
      "Global variable after modification: 20\n",
      "Global variable inside function: 20\n"
     ]
    }
   ],
   "source": [
    "# Global variable\n",
    "global_var = 10\n",
    "\n",
    "def modify_global():\n",
    "    global global_var\n",
    "    global_var = 20\n",
    "\n",
    "def use_global():\n",
    "    print(f\"Global variable inside function: {global_var}\")\n",
    "\n",
    "# Display the global variable before modification\n",
    "print(f\"Global variable before modification: {global_var}\")\n",
    "\n",
    "# Call function to modify global variable\n",
    "modify_global()\n",
    "\n",
    "# Display the global variable after modification\n",
    "print(f\"Global variable after modification: {global_var}\")\n",
    "\n",
    "# Call function to use global variable\n",
    "use_global()\n"
   ]
  },
  {
   "cell_type": "code",
   "execution_count": 60,
   "id": "7cc6deec",
   "metadata": {},
   "outputs": [
    {
     "name": "stdout",
     "output_type": "stream",
     "text": [
      "The factorial of 5 is 120\n"
     ]
    }
   ],
   "source": [
    "def factorial(n):\n",
    "    if n == 0:\n",
    "        return 1\n",
    "    else:\n",
    "        result = 1\n",
    "        for i in range(1, n + 1):\n",
    "            result *= i\n",
    "        return result\n",
    "result = factorial(5)\n",
    "print(f\"The factorial of 5 is {result}\")  # Output: The factorial of 5 is 120\n"
   ]
  },
  {
   "cell_type": "markdown",
   "id": "3cb3a64e",
   "metadata": {},
   "source": [
    "# Lambda Functions and Higher-Order Functions:"
   ]
  },
  {
   "cell_type": "code",
   "execution_count": 61,
   "id": "e4708e5c",
   "metadata": {},
   "outputs": [],
   "source": [
    "def apply_function_to_list(numbers, func):\n",
    "    result = []\n",
    "    for num in numbers:\n",
    "        result.append(func(num))\n",
    "    return result\n"
   ]
  },
  {
   "cell_type": "markdown",
   "id": "a856d250",
   "metadata": {},
   "source": [
    "# Built-in Functions:"
   ]
  },
  {
   "cell_type": "code",
   "execution_count": 62,
   "id": "7bb2ef87",
   "metadata": {},
   "outputs": [
    {
     "name": "stdout",
     "output_type": "stream",
     "text": [
      "[1, 4, 9, 16, 25]\n"
     ]
    }
   ],
   "source": [
    "# Define a function to square a number\n",
    "def square(x):\n",
    "    return x ** 2\n",
    "\n",
    "# Create a list of numbers\n",
    "numbers = [1, 2, 3, 4, 5]\n",
    "\n",
    "# Use map() to apply the square function to each element in the list\n",
    "squared_numbers = map(square, numbers)\n",
    "\n",
    "# Convert the result to a list (since map() returns an iterator)\n",
    "squared_numbers = list(squared_numbers)\n",
    "\n",
    "# Print the result\n",
    "print(squared_numbers)\n"
   ]
  },
  {
   "cell_type": "code",
   "execution_count": 63,
   "id": "b19e24dd",
   "metadata": {},
   "outputs": [
    {
     "name": "stdout",
     "output_type": "stream",
     "text": [
      "The product of all elements is: 120\n"
     ]
    }
   ],
   "source": [
    "from functools import reduce\n",
    "\n",
    "# Define a function to multiply two numbers\n",
    "def multiply(x, y):\n",
    "    return x * y\n",
    "\n",
    "# Create a list of numbers\n",
    "numbers = [1, 2, 3, 4, 5]\n",
    "\n",
    "# Use reduce() to find the product of all elements in the list\n",
    "product = reduce(multiply, numbers)\n",
    "\n",
    "# Print the result\n",
    "print(f\"The product of all elements is: {product}\")\n"
   ]
  },
  {
   "cell_type": "markdown",
   "id": "902fcacc",
   "metadata": {},
   "source": [
    "# Function Documentation and Best Practices:\n"
   ]
  },
  {
   "cell_type": "code",
   "execution_count": 64,
   "id": "fbbf1e64",
   "metadata": {},
   "outputs": [],
   "source": [
    "# Docstrings in Python serve as documentation for functions, modules, classes, and methods. They are strings that are used to describe what a piece of code does. Writing clear and informative docstrings is a good practice because it helps other developers (and yourself) understand how to use and interact with your code."
   ]
  },
  {
   "cell_type": "code",
   "execution_count": 65,
   "id": "aa36a7bd",
   "metadata": {},
   "outputs": [],
   "source": [
    "\n",
    "# Naming functions and variables in Python is an important aspect of writing clean, readable, and maintainable code. Following naming conventions and best practices can make your code more understandable and accessible to both yourself and other developers."
   ]
  },
  {
   "cell_type": "code",
   "execution_count": null,
   "id": "d814f075",
   "metadata": {},
   "outputs": [],
   "source": []
  }
 ],
 "metadata": {
  "kernelspec": {
   "display_name": "Python 3 (ipykernel)",
   "language": "python",
   "name": "python3"
  },
  "language_info": {
   "codemirror_mode": {
    "name": "ipython",
    "version": 3
   },
   "file_extension": ".py",
   "mimetype": "text/x-python",
   "name": "python",
   "nbconvert_exporter": "python",
   "pygments_lexer": "ipython3",
   "version": "3.9.12"
  }
 },
 "nbformat": 4,
 "nbformat_minor": 5
}
